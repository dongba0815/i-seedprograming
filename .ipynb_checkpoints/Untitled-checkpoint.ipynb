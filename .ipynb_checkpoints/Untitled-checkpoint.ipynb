{
 "cells": [
  {
   "cell_type": "code",
   "execution_count": 5,
   "id": "b7011714",
   "metadata": {},
   "outputs": [
    {
     "name": "stdout",
     "output_type": "stream",
     "text": [
      "점수를 입력하세요 : 70\n",
      "합격입니다. ^^\n"
     ]
    }
   ],
   "source": [
    "## 문제 4 ##\n",
    "score = int(input(\"점수를 입력하세요 : \"))\n",
    "\n",
    "if score >= 90:\n",
    "    print(\"장학생\", end= '')\n",
    "elif score >=60:\n",
    "    print(\"합격\", end= '')\n",
    "else:\n",
    "    print(\" 불합격\", end= '')\n",
    "print(\"입니다. ^^\")"
   ]
  },
  {
   "cell_type": "code",
   "execution_count": 13,
   "id": "fb2b63b8",
   "metadata": {},
   "outputs": [
    {
     "name": "stdout",
     "output_type": "stream",
     "text": [
      "홀수\n",
      "홀수\n",
      "정답 3번\n"
     ]
    }
   ],
   "source": [
    "## 문제 5 ##\n",
    "num = 5\n",
    "if num % 2 == 0:\n",
    "    res = \"짝수\"\n",
    "else:\n",
    "    res = \"홀수\"\n",
    "print(res)\n",
    "## 삼항 연산자 ##\n",
    "num = 5\n",
    "res = \"짝수\" if num % 2 ==0 else \"홀수\"\n",
    "print(res)\n",
    "print(\"정답 3번\")"
   ]
  },
  {
   "cell_type": "code",
   "execution_count": 15,
   "id": "e1cd02d7",
   "metadata": {},
   "outputs": [
    {
     "name": "stdout",
     "output_type": "stream",
     "text": [
      "nn =  [100, 777, 300, 400, 500]\n",
      "nn =  [100, [444, 555], 300, 400, 500]\n",
      "nn =  [100, 444, 555, 500]\n",
      "nn =  [100, 444]\n"
     ]
    }
   ],
   "source": [
    "## 문제 6 ##\n",
    "nn = [100, 200, 300, 400, 500]\n",
    "nn[1] = 777\n",
    "print(\"nn = \", nn)\n",
    "nn[1] = [444,555]\n",
    "print(\"nn = \", nn)\n",
    "nn[1:4] = [444,555]\n",
    "print(\"nn = \", nn)\n",
    "nn[2:] = []\n",
    "print(\"nn = \", nn)"
   ]
  },
  {
   "cell_type": "code",
   "execution_count": 17,
   "id": "476a228f",
   "metadata": {},
   "outputs": [
    {
     "name": "stdout",
     "output_type": "stream",
     "text": [
      "nn[4] =  500\n",
      "nn[-1] =  500\n",
      "nn[-2] =  400\n",
      "nn[1:4] =  [200, 300, 400]\n",
      "nn[0:1] =  [100]\n",
      "nn[2:-1] =  [300, 400]\n",
      "nn[0::2] =  [100, 300, 500]\n",
      "nn[::-1] =  [500, 400, 300, 200, 100]\n",
      "nn[::-2] =  [500, 300, 100]\n"
     ]
    }
   ],
   "source": [
    "## 문제 5 ##\n",
    "nn = [100, 200, 300, 400, 500]\n",
    "print(\"nn[4] = \", nn[4])\n",
    "print(\"nn[-1] = \", nn[-1])\n",
    "print(\"nn[-2] = \", nn[-2])\n",
    "print(\"nn[1:4] = \", nn[1:4])\n",
    "print(\"nn[0:1] = \", nn[0:1])\n",
    "print(\"nn[2:-1] = \", nn[2:-1])\n",
    "print(\"nn[0::2] = \", nn[0::2])\n",
    "print(\"nn[::-1] = \", nn[::-1])\n",
    "print(\"nn[::-2] = \", nn[::-2])"
   ]
  },
  {
   "cell_type": "code",
   "execution_count": 63,
   "id": "5ca3336f",
   "metadata": {},
   "outputs": [
    {
     "name": "stdout",
     "output_type": "stream",
     "text": [
      "23088\n"
     ]
    }
   ],
   "source": [
    "## 문제 8 ##\n",
    "hap = 0\n",
    "n = 1234\n",
    "\n",
    "while n <  4568:\n",
    "    if n%444 == 0:\n",
    "        hap += n\n",
    "    n = n + 1\n",
    "    \n",
    "print(hap)\n",
    "    "
   ]
  },
  {
   "cell_type": "code",
   "execution_count": 53,
   "id": "407b3dd5",
   "metadata": {},
   "outputs": [
    {
     "name": "stdout",
     "output_type": "stream",
     "text": [
      "40722\n"
     ]
    }
   ],
   "source": [
    "## 문제 9 ##\n",
    "sum = 0\n",
    "for i in range(3333, 10000,1):\n",
    "    if (i % 1234) == 0:\n",
    "        if sum+i > 100000:\n",
    "            break\n",
    "        sum = sum + i\n",
    "    else:\n",
    "        continue\n",
    "print(sum)"
   ]
  },
  {
   "cell_type": "code",
   "execution_count": 65,
   "id": "68ddfb7a",
   "metadata": {},
   "outputs": [
    {
     "name": "stdout",
     "output_type": "stream",
     "text": [
      "[[2, 4], [3, 6]]\n"
     ]
    }
   ],
   "source": [
    "## 문제 14 ##\n",
    "myData = [[n * m for n in range(1,3)] for m in range(2,4)]\n",
    "print(myData)"
   ]
  },
  {
   "cell_type": "code",
   "execution_count": null,
   "id": "09969459",
   "metadata": {},
   "outputs": [],
   "source": []
  }
 ],
 "metadata": {
  "kernelspec": {
   "display_name": "Python 3 (ipykernel)",
   "language": "python",
   "name": "python3"
  },
  "language_info": {
   "codemirror_mode": {
    "name": "ipython",
    "version": 3
   },
   "file_extension": ".py",
   "mimetype": "text/x-python",
   "name": "python",
   "nbconvert_exporter": "python",
   "pygments_lexer": "ipython3",
   "version": "3.9.15"
  }
 },
 "nbformat": 4,
 "nbformat_minor": 5
}
